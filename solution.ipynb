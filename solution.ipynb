{
 "cells": [
  {
   "cell_type": "code",
   "execution_count": 142,
   "metadata": {},
   "outputs": [],
   "source": [
    "from collections import deque"
   ]
  },
  {
   "cell_type": "code",
   "execution_count": 143,
   "metadata": {},
   "outputs": [],
   "source": [
    "def reader_hashcode(filename):\n",
    "    with open(filename) as fp:\n",
    "        books, libraries, days = [int(x) for x in fp.readline()[:-1].split(' ')]\n",
    "        books_scores = [int(x) for x in fp.readline()[:-1].split(' ')]\n",
    "        libraries_data = []\n",
    "        books_libraries = []\n",
    "        line = fp.readline()\n",
    "        libraries_data.append([int(x) for x in line[:-1].split(' ')])\n",
    "        line = fp.readline()\n",
    "        books_libraries.append([int(x) for x in line[:-1].split(' ')])\n",
    "        line = fp.readline()\n",
    "        while line:\n",
    "            libraries_data.append([int(x) for x in line[:-1].split(' ')])\n",
    "            line = fp.readline()\n",
    "            books_libraries.append([int(x) for x in line[:-1].split(' ')])\n",
    "            line = fp.readline()\n",
    "    return days,books_scores,libraries_data,books_libraries"
   ]
  },
  {
   "cell_type": "code",
   "execution_count": 290,
   "metadata": {},
   "outputs": [
    {
     "name": "stdout",
     "output_type": "stream",
     "text": [
      "21\n"
     ]
    }
   ],
   "source": [
    "filename = \"a_example.txt\"\n",
    "resfile = \"resulta.txt\"\n",
    "inputs = reader_hashcode(filename)\n",
    "solution = books_score(inputs[0],inputs[1],inputs[2],inputs[3])\n",
    "print(scoring(solution, inputs[0], inputs[2], inputs[1]))\n",
    "s = write_hashcode(solution)\n",
    "write_file(s,resfile)"
   ]
  },
  {
   "cell_type": "code",
   "execution_count": 286,
   "metadata": {},
   "outputs": [
    {
     "name": "stdout",
     "output_type": "stream",
     "text": [
      "4126100\n"
     ]
    }
   ],
   "source": [
    "filename = \"b_read_on.txt\"\n",
    "resfile = \"resultb.txt\"\n",
    "inputs = reader_hashcode(filename)\n",
    "solution = books_score(inputs[0],inputs[1],inputs[2],inputs[3])\n",
    "print(scoring(solution, inputs[0], inputs[2], inputs[1]))\n",
    "s = write_hashcode(solution)\n",
    "write_file(s,resfile)"
   ]
  },
  {
   "cell_type": "code",
   "execution_count": 274,
   "metadata": {},
   "outputs": [],
   "source": [
    "filename = \"c_incunabula.txt\"\n",
    "resfile = \"resultc.txt\"\n",
    "inputs = reader_hashcode(filename)\n",
    "solution = books_score(inputs[0],inputs[1],inputs[2],inputs[3])\n",
    "#print(scoring(solution, inputs[0], inputs[2], inputs[1]))\n",
    "s = write_hashcode(solution)\n",
    "write_file(s,resfile)"
   ]
  },
  {
   "cell_type": "code",
   "execution_count": 275,
   "metadata": {},
   "outputs": [],
   "source": [
    "filename = \"d_tough_choices.txt\"\n",
    "resfile = \"resultd.txt\"\n",
    "inputs = reader_hashcode(filename)\n",
    "solution = books_score(inputs[0],inputs[1],inputs[2],inputs[3])\n",
    "#print(scoring(solution, inputs[0], inputs[2], inputs[1]))\n",
    "s = write_hashcode(solution)\n",
    "write_file(s,resfile)"
   ]
  },
  {
   "cell_type": "code",
   "execution_count": 287,
   "metadata": {},
   "outputs": [
    {
     "name": "stdout",
     "output_type": "stream",
     "text": [
      "1699675\n"
     ]
    }
   ],
   "source": [
    "filename = \"e_so_many_books.txt\"\n",
    "resfile = \"resulte.txt\"\n",
    "inputs = reader_hashcode(filename)\n",
    "solution = books_score(inputs[0],inputs[1],inputs[2],inputs[3])\n",
    "print(scoring(solution, inputs[0], inputs[2], inputs[1]))\n",
    "s = write_hashcode(solution)\n",
    "write_file(s,resfile)"
   ]
  },
  {
   "cell_type": "code",
   "execution_count": 288,
   "metadata": {},
   "outputs": [
    {
     "name": "stdout",
     "output_type": "stream",
     "text": [
      "908661\n"
     ]
    }
   ],
   "source": [
    "filename = \"f_libraries_of_the_world.txt\"\n",
    "resfile = \"resultf.txt\"\n",
    "inputs = reader_hashcode(filename)\n",
    "solution = books_score(inputs[0],inputs[1],inputs[2],inputs[3])\n",
    "print(scoring(solution, inputs[0], inputs[2], inputs[1]))\n",
    "s = write_hashcode(solution)\n",
    "write_file(s,resfile)"
   ]
  },
  {
   "cell_type": "code",
   "execution_count": 289,
   "metadata": {},
   "outputs": [],
   "source": [
    "import collections\n",
    "from random import shuffle\n",
    "def books_score(days, scores, libraries, books):\n",
    "    \"\"\"\n",
    "    Params:\n",
    "        -scores: score[i]=score of book i\n",
    "        -libraries: libraries[i]=[numBooks, daystoSign, booksPerDay] of a library i\n",
    "        -books: books[i]=books at library i\n",
    "    \"\"\"\n",
    "\n",
    "    # Sort the books by score in descending order\n",
    "    def myFunc(i): return scores[i]\n",
    "    sorted_books = []\n",
    "    for b in books:\n",
    "        b.sort(reverse=True, key=myFunc)\n",
    "        sorted_books.append(b)\n",
    "\n",
    "    visited = set()\n",
    "\n",
    "    # Sort libraries\n",
    "    libraries = [[i,libraries[i][0],libraries[i][1],libraries[i][2]] for i in range(len(libraries))]\n",
    "    def libDays(i): \n",
    "        lib = i[0]\n",
    "        score = 0\n",
    "        bpd = i[3]\n",
    "        for j in range(0,len(books[lib])):\n",
    "            for k in range(bpd):\n",
    "                score += scores[books[lib][j]]\n",
    "        return score\n",
    "    libraries.sort(reverse=True, key=libDays)\n",
    "\n",
    "    solution = []\n",
    "    i=0\n",
    "    j=0\n",
    "    n = len(libraries)\n",
    "    while i < days and j < n:\n",
    "        i+=libraries[j][2]\n",
    "        bpd = libraries[j][3]\n",
    "        avdays = days-i\n",
    "        numbooks = libraries[j][1]\n",
    "        signup = []\n",
    "        b = 0\n",
    "        for k in range(avdays):\n",
    "            avbooks = 0\n",
    "            while avbooks < bpd and numbooks!=0:\n",
    "                if books[libraries[j][0]][b] not in visited:\n",
    "                    signup.append(books[libraries[j][0]][b])\n",
    "                    visited.add(books[libraries[j][0]][b])\n",
    "                    b+=1\n",
    "                    numbooks-=1\n",
    "                    avbooks+=1\n",
    "                else: \n",
    "                    b+=1\n",
    "                    numbooks-=1\n",
    "        if len(signup)!=0: solution.append((libraries[j][0],signup))\n",
    "        j+=1\n",
    "    \n",
    "    # Solution [(idLib,[books])]\n",
    "    return solution"
   ]
  },
  {
   "cell_type": "code",
   "execution_count": 147,
   "metadata": {},
   "outputs": [],
   "source": [
    "def write_hashcode(solution):\n",
    "    finalstring = \"\"\n",
    "    finalstring += str(len(solution))+\"\\n\"\n",
    "    for sol in solution:\n",
    "        finalstring += str(sol[0])+\" \"+str(len(sol[1]))+\"\\n\"\n",
    "        finalstring += \" \".join([str(i) for i in sol[1]])+\"\\n\"\n",
    "    return finalstring"
   ]
  },
  {
   "cell_type": "code",
   "execution_count": 163,
   "metadata": {},
   "outputs": [],
   "source": [
    "def write_file(s,filename):\n",
    "    with open(filename,\"w\") as f:\n",
    "        f.write(s)"
   ]
  },
  {
   "cell_type": "code",
   "execution_count": 241,
   "metadata": {},
   "outputs": [],
   "source": [
    "def scoring(solution, max_days, libraries_data, books_scores):\n",
    "    total_days = 0\n",
    "    read_books = set()\n",
    "    data_points = []\n",
    "    final_score = 0\n",
    "    for sol in solution:\n",
    "        lib_dat = libraries_data[sol[0]]\n",
    "        total_days += lib_dat[1]\n",
    "        if total_days>=max_days:\n",
    "            break\n",
    "        else:\n",
    "            data_points.append([total_days,lib_dat[2],deque(sol[1])])\n",
    "    for day in range(max_days):\n",
    "        for i,lib in enumerate(data_points):\n",
    "            if day>=lib[0]:\n",
    "                #For every library, we popleft the books\n",
    "                for num in range(lib[1]):\n",
    "                    try:\n",
    "                        book = data_points[i][2].popleft()\n",
    "                        if book not in read_books:\n",
    "                            final_score+=books_scores[book]\n",
    "                            read_books.add(book)\n",
    "                    except:\n",
    "                        pass\n",
    "                        #del data_points[i]\n",
    "            else:\n",
    "                break\n",
    "    return final_score"
   ]
  },
  {
   "cell_type": "code",
   "execution_count": null,
   "metadata": {},
   "outputs": [],
   "source": []
  }
 ],
 "metadata": {
  "kernelspec": {
   "display_name": "Python 3",
   "language": "python",
   "name": "python3"
  },
  "language_info": {
   "codemirror_mode": {
    "name": "ipython",
    "version": 3
   },
   "file_extension": ".py",
   "mimetype": "text/x-python",
   "name": "python",
   "nbconvert_exporter": "python",
   "pygments_lexer": "ipython3",
   "version": "3.7.5"
  }
 },
 "nbformat": 4,
 "nbformat_minor": 4
}
